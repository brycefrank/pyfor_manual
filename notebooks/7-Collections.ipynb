{
 "cells": [
  {
   "cell_type": "markdown",
   "metadata": {},
   "source": [
    "# 7. Collections\n",
    "\n",
    "What would a LiDAR processing package be without handling multiple acquisition tiles at a time? As of the **0.3.0** update, this is now possible with pyfor. pyfor sublasses `geopandas.GeoDataFrame` class to create a new class, `CloudDataFrame`. For those familiar with `geopandas`, this should create a flexible and extensible class for manipulating collections of point cloud tiles.\n",
    "\n",
    "The `CloudDataFrame` is a memory-efficient API for handling large collections of `.las` files that is capable of making spatial queries and executing arbitrary functions in parallel."
   ]
  },
  {
   "cell_type": "markdown",
   "metadata": {},
   "source": [
    "## Creating a Collection\n",
    "\n",
    "The first step is to import the collection. To do so we point it to a directory with many `.las` files. As an optional argument, we can also set the number of threads the collection will use when conducting processing tasks via the `n_jobs` argument."
   ]
  },
  {
   "cell_type": "code",
   "execution_count": 7,
   "metadata": {},
   "outputs": [
    {
     "data": {
      "text/html": [
       "<div>\n",
       "<style scoped>\n",
       "    .dataframe tbody tr th:only-of-type {\n",
       "        vertical-align: middle;\n",
       "    }\n",
       "\n",
       "    .dataframe tbody tr th {\n",
       "        vertical-align: top;\n",
       "    }\n",
       "\n",
       "    .dataframe thead th {\n",
       "        text-align: right;\n",
       "    }\n",
       "</style>\n",
       "<table border=\"1\" class=\"dataframe\">\n",
       "  <thead>\n",
       "    <tr style=\"text-align: right;\">\n",
       "      <th></th>\n",
       "      <th>las_path</th>\n",
       "      <th>bounding_box</th>\n",
       "    </tr>\n",
       "  </thead>\n",
       "  <tbody>\n",
       "    <tr>\n",
       "      <th>0</th>\n",
       "      <td>/home/bryce/Desktop/pyfor_macdunn/44123F6102.las</td>\n",
       "      <td>POLYGON ((471419.78 1105407.84, 474843.21 1105...</td>\n",
       "    </tr>\n",
       "    <tr>\n",
       "      <th>1</th>\n",
       "      <td>/home/bryce/Desktop/pyfor_macdunn/44123F6103.las</td>\n",
       "      <td>POLYGON ((474664.8 1105280.45, 478087.76 11052...</td>\n",
       "    </tr>\n",
       "    <tr>\n",
       "      <th>2</th>\n",
       "      <td>/home/bryce/Desktop/pyfor_macdunn/44123F6101.las</td>\n",
       "      <td>POLYGON ((468174.57 1105535.66, 471598.82 1105...</td>\n",
       "    </tr>\n",
       "  </tbody>\n",
       "</table>\n",
       "</div>"
      ],
      "text/plain": [
       "                                           las_path  \\\n",
       "0  /home/bryce/Desktop/pyfor_macdunn/44123F6102.las   \n",
       "1  /home/bryce/Desktop/pyfor_macdunn/44123F6103.las   \n",
       "2  /home/bryce/Desktop/pyfor_macdunn/44123F6101.las   \n",
       "\n",
       "                                        bounding_box  \n",
       "0  POLYGON ((471419.78 1105407.84, 474843.21 1105...  \n",
       "1  POLYGON ((474664.8 1105280.45, 478087.76 11052...  \n",
       "2  POLYGON ((468174.57 1105535.66, 471598.82 1105...  "
      ]
     },
     "execution_count": 7,
     "metadata": {},
     "output_type": "execute_result"
    }
   ],
   "source": [
    "import pyfor\n",
    "col = pyfor.collection.from_dir(\"/home/bryce/Desktop/pyfor_macdunn/\", n_jobs=4)\n",
    "col.head()"
   ]
  },
  {
   "cell_type": "markdown",
   "metadata": {},
   "source": [
    "On initialization (using `.from_dir`) pyfor generates the file path of each las file in the directory we provided, these paths are stored in the `las_path` column. Additionally, a bounding box is read from the header of each `.las` file and automatically appended to the `bounding_box` column, this column is set as the data frame's geometry column."
   ]
  },
  {
   "cell_type": "markdown",
   "metadata": {},
   "source": [
    "## Mapping a Collection\n",
    "\n",
    "It may be of interest to generate information about where our tiles exist. If we trust the headers stored in our `.las` files, we can easily accomplish this with the `CloudDataFrame`. Because this object inherits from `GeoDataFrame`, we simply need to call the `.to_file` method and save our geometries. Let's also set the `.crs` attribute of our data frame."
   ]
  },
  {
   "cell_type": "code",
   "execution_count": 14,
   "metadata": {},
   "outputs": [],
   "source": [
    "import pyproj\n",
    "\n",
    "col.crs = pyproj.Proj({'init': 'epsg:2994'}).srs\n",
    "col.to_file('/home/bryce/Desktop/pyfor_macdunn/geoms/bbox.shp')"
   ]
  },
  {
   "cell_type": "markdown",
   "metadata": {},
   "source": [
    "## Processing in Parallel"
   ]
  },
  {
   "cell_type": "markdown",
   "metadata": {},
   "source": [
    "Now we can use the `par_apply` method, this allows us to apply arbitrary functions to each tile in the collection. Let's define a function we might want to apply to each tile. This function must accept a single argument upon each iteration, this argument is the path of the las file."
   ]
  },
  {
   "cell_type": "code",
   "execution_count": 9,
   "metadata": {},
   "outputs": [
    {
     "data": {
      "text/html": [
       "<div>\n",
       "<style scoped>\n",
       "    .dataframe tbody tr th:only-of-type {\n",
       "        vertical-align: middle;\n",
       "    }\n",
       "\n",
       "    .dataframe tbody tr th {\n",
       "        vertical-align: top;\n",
       "    }\n",
       "\n",
       "    .dataframe thead th {\n",
       "        text-align: right;\n",
       "    }\n",
       "</style>\n",
       "<table border=\"1\" class=\"dataframe\">\n",
       "  <thead>\n",
       "    <tr style=\"text-align: right;\">\n",
       "      <th></th>\n",
       "      <th>las_path</th>\n",
       "      <th>bounding_box</th>\n",
       "      <th>min_z</th>\n",
       "    </tr>\n",
       "  </thead>\n",
       "  <tbody>\n",
       "    <tr>\n",
       "      <th>0</th>\n",
       "      <td>/home/bryce/Desktop/pyfor_macdunn/44123F6102.las</td>\n",
       "      <td>POLYGON ((471419.78 1105407.84, 474843.21 1105...</td>\n",
       "      <td>354.00</td>\n",
       "    </tr>\n",
       "    <tr>\n",
       "      <th>1</th>\n",
       "      <td>/home/bryce/Desktop/pyfor_macdunn/44123F6103.las</td>\n",
       "      <td>POLYGON ((474664.8 1105280.45, 478087.76 11052...</td>\n",
       "      <td>262.80</td>\n",
       "    </tr>\n",
       "    <tr>\n",
       "      <th>2</th>\n",
       "      <td>/home/bryce/Desktop/pyfor_macdunn/44123F6101.las</td>\n",
       "      <td>POLYGON ((468174.57 1105535.66, 471598.82 1105...</td>\n",
       "      <td>299.54</td>\n",
       "    </tr>\n",
       "  </tbody>\n",
       "</table>\n",
       "</div>"
      ],
      "text/plain": [
       "                                           las_path  \\\n",
       "0  /home/bryce/Desktop/pyfor_macdunn/44123F6102.las   \n",
       "1  /home/bryce/Desktop/pyfor_macdunn/44123F6103.las   \n",
       "2  /home/bryce/Desktop/pyfor_macdunn/44123F6101.las   \n",
       "\n",
       "                                        bounding_box   min_z  \n",
       "0  POLYGON ((471419.78 1105407.84, 474843.21 1105...  354.00  \n",
       "1  POLYGON ((474664.8 1105280.45, 478087.76 11052...  262.80  \n",
       "2  POLYGON ((468174.57 1105535.66, 471598.82 1105...  299.54  "
      ]
     },
     "execution_count": 9,
     "metadata": {},
     "output_type": "execute_result"
    }
   ],
   "source": [
    "def my_func(las_path):\n",
    "    # Load a cloud object\n",
    "    pc = pyfor.cloud.Cloud(las_path)\n",
    "    return (pc.data.min[2])\n",
    "\n",
    "# Set a new column for the CloudDataFrame\n",
    "col[\"min_z\"] = col.par_apply(my_func, \"las_path\")\n",
    "col.head()"
   ]
  },
  {
   "cell_type": "markdown",
   "metadata": {},
   "source": [
    "## Spatial Indexing and Queries\n",
    "\n",
    "`CloudDataFrame` takes advantage of the `.lax` spatial indexing method implemented in Martin Isenburg's `lastools` (which is automatically installed as part of your environment). This relies on another python package, `laxpy`, to generate and parse these `.lax` files. `.lax` files are required for conducting spatial queries on collections. Our first step is to generate these `.lax` files if they are not already present, and `CloudDataFrame` has a convenient method for this.\n",
    "\n",
    "For lower-level access to `.lax` files, please see [laxpy](https://github.com/brycefrank/laxpy) for more information."
   ]
  },
  {
   "cell_type": "code",
   "execution_count": 11,
   "metadata": {},
   "outputs": [],
   "source": [
    "col.create_index()"
   ]
  },
  {
   "cell_type": "markdown",
   "metadata": {},
   "source": [
    "This simple function calls `lasindex` and generates `.lax` files via the default settings. Now that `.lax` files are present, we can conduct spatial queries via the `CloudDataFrame.clip` method. Note that this method is different from `Cloud.clip` in that it is intended for memory-efficient clipping of multiple polygons.\n",
    "\n",
    "First, we need to access our query polygon data. `.clip` will accept either a list of `shapely.geometry.Polygon` objects or, more conveniently, a `geopandas.GeoSeries`. We will use the latter."
   ]
  },
  {
   "cell_type": "code",
   "execution_count": 24,
   "metadata": {},
   "outputs": [],
   "source": [
    "import geopandas as gpd\n",
    "\n",
    "polys = gpd.GeoSeries.from_file('/home/bryce/Desktop/pyfor_macdunn/geoms/query_polygons.shp')\n",
    "col.clip(polys, '/home/bryce/Desktop/pyfor_macdunn/query')"
   ]
  }
 ],
 "metadata": {
  "kernelspec": {
   "display_name": "Python [conda env:pyfor_env]",
   "language": "python",
   "name": "conda-env-pyfor_env-py"
  },
  "language_info": {
   "codemirror_mode": {
    "name": "ipython",
    "version": 3
   },
   "file_extension": ".py",
   "mimetype": "text/x-python",
   "name": "python",
   "nbconvert_exporter": "python",
   "pygments_lexer": "ipython3",
   "version": "3.6.6"
  }
 },
 "nbformat": 4,
 "nbformat_minor": 2
}
