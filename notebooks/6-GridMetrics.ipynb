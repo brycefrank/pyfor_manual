{
 "cells": [
  {
   "cell_type": "markdown",
   "metadata": {},
   "source": [
    "## Calculating Metrics for Grid Cells\n",
    "\n",
    "The area-based approach in LiDAR data analysis is founded on the summarization of LiDAR data for individual grid cells across the forested landscape. From these summaries, models can be constructed from field data of a subset of these cells with the summary statistics as predictor variables.\n",
    "\n",
    "pyfor, using `pandas` as a back end, provides a means to summarize the point cloud across a grid. This sample will investigate how to construct a Python dictionary that will summarize our grid for us.\n",
    "\n",
    "Unfortunately this sample does not have any attractive visualizations, but this is where the important work begins!"
   ]
  },
  {
   "cell_type": "code",
   "execution_count": 1,
   "metadata": {
    "nbpresent": {
     "id": "e52e7487-57c5-4893-8e66-053ee956aa2c"
    }
   },
   "outputs": [],
   "source": [
    "import pyfor\n",
    "import numpy as np"
   ]
  },
  {
   "cell_type": "markdown",
   "metadata": {},
   "source": [
    "It will be best to normalize our point cloud first. This is done at a separate resolution (here I chose 0.5 meters) than the actual grid summary to produce an adequate bare earth model. I also filter the point cloud to remove a few erroneous points."
   ]
  },
  {
   "cell_type": "code",
   "execution_count": 2,
   "metadata": {
    "nbpresent": {
     "id": "01c15bc4-f622-4eb3-b19d-b34f559c9672"
    }
   },
   "outputs": [],
   "source": [
    "pc = pyfor.cloud.Cloud(\"data/test.las\")\n",
    "pc.normalize(0.5)\n",
    "pc.filter(min = 0, max = 70, dim = \"z\")"
   ]
  },
  {
   "cell_type": "markdown",
   "metadata": {},
   "source": [
    "Now we will construct a `Grid` object. We have seen `Grid` before in the normalization sample. To recap, a `Grid` is the pointcloud plus an x and y bin identifier for each point. This bin identifier assigns each LiDAR point to a grid cell. We can access this using the `Grid.data` attribute."
   ]
  },
  {
   "cell_type": "code",
   "execution_count": 3,
   "metadata": {},
   "outputs": [
    {
     "data": {
      "text/html": [
       "<div>\n",
       "<style scoped>\n",
       "    .dataframe tbody tr th:only-of-type {\n",
       "        vertical-align: middle;\n",
       "    }\n",
       "\n",
       "    .dataframe tbody tr th {\n",
       "        vertical-align: top;\n",
       "    }\n",
       "\n",
       "    .dataframe thead th {\n",
       "        text-align: right;\n",
       "    }\n",
       "</style>\n",
       "<table border=\"1\" class=\"dataframe\">\n",
       "  <thead>\n",
       "    <tr style=\"text-align: right;\">\n",
       "      <th></th>\n",
       "      <th>classification</th>\n",
       "      <th>flag_byte</th>\n",
       "      <th>intensity</th>\n",
       "      <th>pt_src_id</th>\n",
       "      <th>scan_angle_rank</th>\n",
       "      <th>user_data</th>\n",
       "      <th>x</th>\n",
       "      <th>y</th>\n",
       "      <th>z</th>\n",
       "      <th>bins_x</th>\n",
       "      <th>bins_y</th>\n",
       "    </tr>\n",
       "  </thead>\n",
       "  <tbody>\n",
       "    <tr>\n",
       "      <th>5</th>\n",
       "      <td>1</td>\n",
       "      <td>9</td>\n",
       "      <td>1</td>\n",
       "      <td>9</td>\n",
       "      <td>12</td>\n",
       "      <td>4</td>\n",
       "      <td>405981.33</td>\n",
       "      <td>3276235.63</td>\n",
       "      <td>0.07</td>\n",
       "      <td>97</td>\n",
       "      <td>1</td>\n",
       "    </tr>\n",
       "    <tr>\n",
       "      <th>14</th>\n",
       "      <td>5</td>\n",
       "      <td>9</td>\n",
       "      <td>3</td>\n",
       "      <td>9</td>\n",
       "      <td>12</td>\n",
       "      <td>149</td>\n",
       "      <td>405991.94</td>\n",
       "      <td>3276236.27</td>\n",
       "      <td>13.63</td>\n",
       "      <td>98</td>\n",
       "      <td>1</td>\n",
       "    </tr>\n",
       "    <tr>\n",
       "      <th>15</th>\n",
       "      <td>5</td>\n",
       "      <td>9</td>\n",
       "      <td>1</td>\n",
       "      <td>9</td>\n",
       "      <td>12</td>\n",
       "      <td>140</td>\n",
       "      <td>405992.48</td>\n",
       "      <td>3276236.21</td>\n",
       "      <td>12.78</td>\n",
       "      <td>98</td>\n",
       "      <td>1</td>\n",
       "    </tr>\n",
       "    <tr>\n",
       "      <th>16</th>\n",
       "      <td>5</td>\n",
       "      <td>9</td>\n",
       "      <td>1</td>\n",
       "      <td>9</td>\n",
       "      <td>12</td>\n",
       "      <td>133</td>\n",
       "      <td>405993.11</td>\n",
       "      <td>3276236.18</td>\n",
       "      <td>12.33</td>\n",
       "      <td>98</td>\n",
       "      <td>1</td>\n",
       "    </tr>\n",
       "    <tr>\n",
       "      <th>17</th>\n",
       "      <td>5</td>\n",
       "      <td>9</td>\n",
       "      <td>3</td>\n",
       "      <td>9</td>\n",
       "      <td>12</td>\n",
       "      <td>121</td>\n",
       "      <td>405993.62</td>\n",
       "      <td>3276236.11</td>\n",
       "      <td>11.26</td>\n",
       "      <td>98</td>\n",
       "      <td>1</td>\n",
       "    </tr>\n",
       "  </tbody>\n",
       "</table>\n",
       "</div>"
      ],
      "text/plain": [
       "    classification  flag_byte  intensity  pt_src_id  scan_angle_rank  \\\n",
       "5                1          9          1          9               12   \n",
       "14               5          9          3          9               12   \n",
       "15               5          9          1          9               12   \n",
       "16               5          9          1          9               12   \n",
       "17               5          9          3          9               12   \n",
       "\n",
       "    user_data          x           y      z  bins_x  bins_y  \n",
       "5           4  405981.33  3276235.63   0.07      97       1  \n",
       "14        149  405991.94  3276236.27  13.63      98       1  \n",
       "15        140  405992.48  3276236.21  12.78      98       1  \n",
       "16        133  405993.11  3276236.18  12.33      98       1  \n",
       "17        121  405993.62  3276236.11  11.26      98       1  "
      ]
     },
     "execution_count": 3,
     "metadata": {},
     "output_type": "execute_result"
    }
   ],
   "source": [
    "grid = pc.grid(10)\n",
    "grid.data.head()"
   ]
  },
  {
   "cell_type": "markdown",
   "metadata": {},
   "source": [
    "As we can see, each LiDAR point has been assigned to its respective 2 dimensional bin in the `bins_x` and `bins_y` columns.\n",
    "\n",
    "The `Grid` object also contains a convenient function to summarize data for each bin. This is essentially a wrapper for the `pandas.DataFrame.agg` function, which is documented [here](https://pandas.pydata.org/pandas-docs/stable/generated/pandas.DataFrame.aggregate.html).\n",
    "\n",
    "Those familiar with Python dictionaries will be at home (and for others it is quick and easy to pick up). The keys should correspond to columns already present in the `Grid.data` data frame, and the values should either be a function or a list of functions to perform on each key."
   ]
  },
  {
   "cell_type": "code",
   "execution_count": 4,
   "metadata": {},
   "outputs": [
    {
     "data": {
      "text/html": [
       "<div>\n",
       "<style scoped>\n",
       "    .dataframe tbody tr th:only-of-type {\n",
       "        vertical-align: middle;\n",
       "    }\n",
       "\n",
       "    .dataframe tbody tr th {\n",
       "        vertical-align: top;\n",
       "    }\n",
       "\n",
       "    .dataframe thead tr th {\n",
       "        text-align: left;\n",
       "    }\n",
       "\n",
       "    .dataframe thead tr:last-of-type th {\n",
       "        text-align: right;\n",
       "    }\n",
       "</style>\n",
       "<table border=\"1\" class=\"dataframe\">\n",
       "  <thead>\n",
       "    <tr>\n",
       "      <th></th>\n",
       "      <th></th>\n",
       "      <th colspan=\"2\" halign=\"left\">z</th>\n",
       "      <th>intensity</th>\n",
       "    </tr>\n",
       "    <tr>\n",
       "      <th></th>\n",
       "      <th></th>\n",
       "      <th>count</th>\n",
       "      <th>mean</th>\n",
       "      <th>max</th>\n",
       "    </tr>\n",
       "    <tr>\n",
       "      <th>bins_x</th>\n",
       "      <th>bins_y</th>\n",
       "      <th></th>\n",
       "      <th></th>\n",
       "      <th></th>\n",
       "    </tr>\n",
       "  </thead>\n",
       "  <tbody>\n",
       "    <tr>\n",
       "      <th rowspan=\"5\" valign=\"top\">0</th>\n",
       "      <th>6</th>\n",
       "      <td>1</td>\n",
       "      <td>0.400</td>\n",
       "      <td>8</td>\n",
       "    </tr>\n",
       "    <tr>\n",
       "      <th>13</th>\n",
       "      <td>1</td>\n",
       "      <td>7.120</td>\n",
       "      <td>3</td>\n",
       "    </tr>\n",
       "    <tr>\n",
       "      <th>15</th>\n",
       "      <td>2</td>\n",
       "      <td>0.325</td>\n",
       "      <td>8</td>\n",
       "    </tr>\n",
       "    <tr>\n",
       "      <th>16</th>\n",
       "      <td>1</td>\n",
       "      <td>0.490</td>\n",
       "      <td>2</td>\n",
       "    </tr>\n",
       "    <tr>\n",
       "      <th>26</th>\n",
       "      <td>2</td>\n",
       "      <td>4.275</td>\n",
       "      <td>9</td>\n",
       "    </tr>\n",
       "  </tbody>\n",
       "</table>\n",
       "</div>"
      ],
      "text/plain": [
       "                  z        intensity\n",
       "              count   mean       max\n",
       "bins_x bins_y                       \n",
       "0      6          1  0.400         8\n",
       "       13         1  7.120         3\n",
       "       15         2  0.325         8\n",
       "       16         1  0.490         2\n",
       "       26         2  4.275         9"
      ]
     },
     "execution_count": 4,
     "metadata": {},
     "output_type": "execute_result"
    }
   ],
   "source": [
    "my_metrics = {\n",
    "    'z': ['count', 'mean'],\n",
    "    'intensity': ['max']\n",
    "}\n",
    "\n",
    "grid.metrics(my_metrics).head()"
   ]
  },
  {
   "cell_type": "markdown",
   "metadata": {},
   "source": [
    "We can also get creative and write our own functions. The only requirement is that they take a 1 dimensional array as input and return a single value as output."
   ]
  },
  {
   "cell_type": "code",
   "execution_count": 5,
   "metadata": {},
   "outputs": [
    {
     "data": {
      "text/html": [
       "<div>\n",
       "<style scoped>\n",
       "    .dataframe tbody tr th:only-of-type {\n",
       "        vertical-align: middle;\n",
       "    }\n",
       "\n",
       "    .dataframe tbody tr th {\n",
       "        vertical-align: top;\n",
       "    }\n",
       "\n",
       "    .dataframe thead tr th {\n",
       "        text-align: left;\n",
       "    }\n",
       "\n",
       "    .dataframe thead tr:last-of-type th {\n",
       "        text-align: right;\n",
       "    }\n",
       "</style>\n",
       "<table border=\"1\" class=\"dataframe\">\n",
       "  <thead>\n",
       "    <tr>\n",
       "      <th></th>\n",
       "      <th></th>\n",
       "      <th colspan=\"3\" halign=\"left\">z</th>\n",
       "      <th>intensity</th>\n",
       "    </tr>\n",
       "    <tr>\n",
       "      <th></th>\n",
       "      <th></th>\n",
       "      <th>count</th>\n",
       "      <th>mean</th>\n",
       "      <th>crazy_index</th>\n",
       "      <th>max</th>\n",
       "    </tr>\n",
       "    <tr>\n",
       "      <th>bins_x</th>\n",
       "      <th>bins_y</th>\n",
       "      <th></th>\n",
       "      <th></th>\n",
       "      <th></th>\n",
       "      <th></th>\n",
       "    </tr>\n",
       "  </thead>\n",
       "  <tbody>\n",
       "    <tr>\n",
       "      <th rowspan=\"5\" valign=\"top\">0</th>\n",
       "      <th>6</th>\n",
       "      <td>1</td>\n",
       "      <td>0.400</td>\n",
       "      <td>-0.600000</td>\n",
       "      <td>8</td>\n",
       "    </tr>\n",
       "    <tr>\n",
       "      <th>13</th>\n",
       "      <td>1</td>\n",
       "      <td>7.120</td>\n",
       "      <td>6.120000</td>\n",
       "      <td>3</td>\n",
       "    </tr>\n",
       "    <tr>\n",
       "      <th>15</th>\n",
       "      <td>2</td>\n",
       "      <td>0.325</td>\n",
       "      <td>-0.782692</td>\n",
       "      <td>8</td>\n",
       "    </tr>\n",
       "    <tr>\n",
       "      <th>16</th>\n",
       "      <td>1</td>\n",
       "      <td>0.490</td>\n",
       "      <td>-0.510000</td>\n",
       "      <td>2</td>\n",
       "    </tr>\n",
       "    <tr>\n",
       "      <th>26</th>\n",
       "      <td>2</td>\n",
       "      <td>4.275</td>\n",
       "      <td>2.431725</td>\n",
       "      <td>9</td>\n",
       "    </tr>\n",
       "  </tbody>\n",
       "</table>\n",
       "</div>"
      ],
      "text/plain": [
       "                  z                    intensity\n",
       "              count   mean crazy_index       max\n",
       "bins_x bins_y                                   \n",
       "0      6          1  0.400   -0.600000         8\n",
       "       13         1  7.120    6.120000         3\n",
       "       15         2  0.325   -0.782692         8\n",
       "       16         1  0.490   -0.510000         2\n",
       "       26         2  4.275    2.431725         9"
      ]
     },
     "execution_count": 5,
     "metadata": {},
     "output_type": "execute_result"
    }
   ],
   "source": [
    "def crazy_index(dim):\n",
    "    return np.mean(dim) - np.max(dim) / np.median(dim)\n",
    "    \n",
    "\n",
    "my_metrics = {\n",
    "    'z': ['count', 'mean', crazy_index],\n",
    "    'intensity': ['max']\n",
    "}\n",
    "\n",
    "my_metrics_dataframe = grid.metrics(my_metrics)\n",
    "my_metrics_dataframe.head()"
   ]
  },
  {
   "cell_type": "markdown",
   "metadata": {},
   "source": [
    "What if we want to do some combination of the columns? Well, underneath is just a `pandas.DataFrame`, so we can really get as crazy as we want."
   ]
  },
  {
   "cell_type": "code",
   "execution_count": 6,
   "metadata": {},
   "outputs": [
    {
     "data": {
      "text/html": [
       "<div>\n",
       "<style scoped>\n",
       "    .dataframe tbody tr th:only-of-type {\n",
       "        vertical-align: middle;\n",
       "    }\n",
       "\n",
       "    .dataframe tbody tr th {\n",
       "        vertical-align: top;\n",
       "    }\n",
       "\n",
       "    .dataframe thead th {\n",
       "        text-align: right;\n",
       "    }\n",
       "</style>\n",
       "<table border=\"1\" class=\"dataframe\">\n",
       "  <thead>\n",
       "    <tr style=\"text-align: right;\">\n",
       "      <th></th>\n",
       "      <th></th>\n",
       "      <th>z_times_x</th>\n",
       "    </tr>\n",
       "    <tr>\n",
       "      <th>bins_x</th>\n",
       "      <th>bins_y</th>\n",
       "      <th></th>\n",
       "    </tr>\n",
       "  </thead>\n",
       "  <tbody>\n",
       "    <tr>\n",
       "      <th rowspan=\"5\" valign=\"top\">0</th>\n",
       "      <th>6</th>\n",
       "      <td>162000.0</td>\n",
       "    </tr>\n",
       "    <tr>\n",
       "      <th>13</th>\n",
       "      <td>2883600.0</td>\n",
       "    </tr>\n",
       "    <tr>\n",
       "      <th>15</th>\n",
       "      <td>117450.0</td>\n",
       "    </tr>\n",
       "    <tr>\n",
       "      <th>16</th>\n",
       "      <td>198450.0</td>\n",
       "    </tr>\n",
       "    <tr>\n",
       "      <th>26</th>\n",
       "      <td>271350.0</td>\n",
       "    </tr>\n",
       "  </tbody>\n",
       "</table>\n",
       "</div>"
      ],
      "text/plain": [
       "               z_times_x\n",
       "bins_x bins_y           \n",
       "0      6        162000.0\n",
       "       13      2883600.0\n",
       "       15       117450.0\n",
       "       16       198450.0\n",
       "       26       271350.0"
      ]
     },
     "execution_count": 6,
     "metadata": {},
     "output_type": "execute_result"
    }
   ],
   "source": [
    "grid.data[\"z_times_x\"] = grid.data[\"z\"] * grid.data[\"x\"]\n",
    "\n",
    "grid.metrics({'z_times_x': 'min'}).head()"
   ]
  },
  {
   "cell_type": "markdown",
   "metadata": {},
   "source": [
    "A wise professor of mine once said, \"I can wake up on any day and make an index!\" Maybe today is your day!\n",
    "\n",
    "If we are satisfied, we can write out our metrics summary to file like any `pandas.DataFrame` object."
   ]
  },
  {
   "cell_type": "code",
   "execution_count": 7,
   "metadata": {},
   "outputs": [],
   "source": [
    "my_metrics_dataframe.to_csv(\"metrics.csv\")"
   ]
  },
  {
   "cell_type": "markdown",
   "metadata": {},
   "source": [
    "## Metrics as Rasters\n",
    "\n",
    "It is often preferable to save our calculated metrics in raster format. This is useful for visualization and georeferencing. Luckily the `Grid.metrics` function has an optional `as_raster` argument. By default, this is set to False, if set to True, however, the function will return a `pandas` dataframe of `Raster` objects, one for each metric we calculated. Because the combination of dimension and metric completely defines the raster, these columns are set as the multiindex of the data frame for convenience."
   ]
  },
  {
   "cell_type": "code",
   "execution_count": 8,
   "metadata": {},
   "outputs": [
    {
     "data": {
      "text/html": [
       "<div>\n",
       "<style scoped>\n",
       "    .dataframe tbody tr th:only-of-type {\n",
       "        vertical-align: middle;\n",
       "    }\n",
       "\n",
       "    .dataframe tbody tr th {\n",
       "        vertical-align: top;\n",
       "    }\n",
       "\n",
       "    .dataframe thead th {\n",
       "        text-align: right;\n",
       "    }\n",
       "</style>\n",
       "<table border=\"1\" class=\"dataframe\">\n",
       "  <thead>\n",
       "    <tr style=\"text-align: right;\">\n",
       "      <th></th>\n",
       "      <th></th>\n",
       "      <th>raster</th>\n",
       "    </tr>\n",
       "    <tr>\n",
       "      <th>dim</th>\n",
       "      <th>metric</th>\n",
       "      <th></th>\n",
       "    </tr>\n",
       "  </thead>\n",
       "  <tbody>\n",
       "    <tr>\n",
       "      <th rowspan=\"3\" valign=\"top\">z</th>\n",
       "      <th>count</th>\n",
       "      <td>&lt;pyfor.rasterizer.Raster object at 0x7f08491f3...</td>\n",
       "    </tr>\n",
       "    <tr>\n",
       "      <th>mean</th>\n",
       "      <td>&lt;pyfor.rasterizer.Raster object at 0x7f0849221...</td>\n",
       "    </tr>\n",
       "    <tr>\n",
       "      <th>crazy_index</th>\n",
       "      <td>&lt;pyfor.rasterizer.Raster object at 0x7f0849221...</td>\n",
       "    </tr>\n",
       "    <tr>\n",
       "      <th>intensity</th>\n",
       "      <th>max</th>\n",
       "      <td>&lt;pyfor.rasterizer.Raster object at 0x7f08491f3...</td>\n",
       "    </tr>\n",
       "  </tbody>\n",
       "</table>\n",
       "</div>"
      ],
      "text/plain": [
       "                                                                  raster\n",
       "dim       metric                                                        \n",
       "z         count        <pyfor.rasterizer.Raster object at 0x7f08491f3...\n",
       "          mean         <pyfor.rasterizer.Raster object at 0x7f0849221...\n",
       "          crazy_index  <pyfor.rasterizer.Raster object at 0x7f0849221...\n",
       "intensity max          <pyfor.rasterizer.Raster object at 0x7f08491f3..."
      ]
     },
     "execution_count": 8,
     "metadata": {},
     "output_type": "execute_result"
    }
   ],
   "source": [
    "my_rasters = grid.metrics(my_metrics, as_raster = True)\n",
    "my_rasters"
   ]
  },
  {
   "cell_type": "markdown",
   "metadata": {},
   "source": [
    "This gives us a convenient data structure to access our raster objects, plot, and write to file."
   ]
  },
  {
   "cell_type": "code",
   "execution_count": 9,
   "metadata": {},
   "outputs": [
    {
     "data": {
      "text/plain": [
       "<pyfor.rasterizer.Raster at 0x7f08491f3470>"
      ]
     },
     "execution_count": 9,
     "metadata": {},
     "output_type": "execute_result"
    }
   ],
   "source": [
    "# Access the intensity raster\n",
    "my_rasters['raster']['intensity']['max']"
   ]
  },
  {
   "cell_type": "code",
   "execution_count": 14,
   "metadata": {},
   "outputs": [
    {
     "data": {
      "image/png": "[encoded data removed]",
      "text/plain": [
       "<Figure size 432x288 with 2 Axes>"
      ]
     },
     "metadata": {},
     "output_type": "display_data"
    }
   ],
   "source": [
    "# Plot the count raster\n",
    "my_rasters['raster']['z']['count'].plot()"
   ]
  },
  {
   "cell_type": "markdown",
   "metadata": {},
   "source": [
    "We can easily iterate over `my_rasters` using typical `pandas` methods in conjunction with a `lambda` function. Upon each iteration, a `Raster` object is fed into the `lambda` function. We can use any attributes and methods from the `Raster` class that we would like. This allows for great flexibility!\n",
    "\n",
    "Let's print out the number of rows and columns of each raster as an exercise."
   ]
  },
  {
   "cell_type": "code",
   "execution_count": 19,
   "metadata": {},
   "outputs": [
    {
     "data": {
      "text/plain": [
       "dim        metric     \n",
       "z          count          (77, 99)\n",
       "           mean           (77, 99)\n",
       "           crazy_index    (77, 99)\n",
       "intensity  max            (77, 99)\n",
       "Name: raster, dtype: object"
      ]
     },
     "execution_count": 19,
     "metadata": {},
     "output_type": "execute_result"
    }
   ],
   "source": [
    "my_rasters['raster'].apply(lambda raster_obj: raster_obj.array.shape)"
   ]
  }
 ],
 "metadata": {
  "kernelspec": {
   "display_name": "Python [conda env:pyfor_env]",
   "language": "python",
   "name": "conda-env-pyfor_env-py"
  },
  "language_info": {
   "codemirror_mode": {
    "name": "ipython",
    "version": 3
   },
   "file_extension": ".py",
   "mimetype": "text/x-python",
   "name": "python",
   "nbconvert_exporter": "python",
   "pygments_lexer": "ipython3",
   "version": "3.6.5"
  }
 },
 "nbformat": 4,
 "nbformat_minor": 2
}
