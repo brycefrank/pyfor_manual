{
 "cells": [
  {
   "cell_type": "markdown",
   "metadata": {},
   "source": [
    "# Contents\n",
    "\n",
    "1. Introduction\n",
    "2. File I/O\n",
    "  - Importing Point Clouds\n",
    "  - Filtering Points\n",
    "  - Plotting the Point Cloud\n",
    "  - Writing to File\n",
    "3. Canopy Height Models\n",
    "4. Normalization\n",
    "5. Clipping\n",
    "6. Grid Metrics\n",
    "7. Collections\n",
    "8. Tree Detection"
   ]
  }
 ],
 "metadata": {
  "kernelspec": {
   "display_name": "Python [conda env:pyfor_env]",
   "language": "python",
   "name": "conda-env-pyfor_env-py"
  },
  "language_info": {
   "codemirror_mode": {
    "name": "ipython",
    "version": 3
   },
   "file_extension": ".py",
   "mimetype": "text/x-python",
   "name": "python",
   "nbconvert_exporter": "python",
   "pygments_lexer": "ipython3",
   "version": "3.6.6"
  }
 },
 "nbformat": 4,
 "nbformat_minor": 2
}
