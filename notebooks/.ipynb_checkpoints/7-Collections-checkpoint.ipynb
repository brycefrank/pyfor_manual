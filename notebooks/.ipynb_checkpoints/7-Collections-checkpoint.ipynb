{
 "cells": [
  {
   "cell_type": "markdown",
   "metadata": {},
   "source": [
    "# 7. Collections\n",
    "\n",
    "What would a LiDAR processing package be without handling multiple acquisition tiles at a time? As of the **0.3.0** update, this is now possible with pyfor. pyfor sublasses `geopandas` `GeoDataFrame` object to create a new class, `CloudDataFrame`. For those familiar with `geopandas`, this should create a flexible and extensible class for manipulating collections of point cloud tiles.\n",
    "\n",
    "The first step is to import the collection. To do so we point it to a directory with many .las files."
   ]
  },
  {
   "cell_type": "code",
   "execution_count": 11,
   "metadata": {},
   "outputs": [],
   "source": [
    "import pyfor"
   ]
  },
  {
   "cell_type": "code",
   "execution_count": 12,
   "metadata": {},
   "outputs": [],
   "source": [
    "col = pyfor.collection.from_dir(\"/home/bryce/Desktop/cercedilla_pyfor/\")"
   ]
  },
  {
   "cell_type": "markdown",
   "metadata": {},
   "source": [
    "From here we can examine a few of the methods and attributes of the CloudDataFrame. The first, and arguably most important, is the n_threads attribute. Here we can set the number of threads that the CloudDataFrame will use when applying functions across las tiles.\n",
    "\n",
    "My computer is a bit old, so I will just set this to 4."
   ]
  },
  {
   "cell_type": "code",
   "execution_count": 13,
   "metadata": {},
   "outputs": [],
   "source": [
    "col.n_jobs = 4"
   ]
  },
  {
   "cell_type": "markdown",
   "metadata": {},
   "source": [
    "Let's take a look at the contents of `col`."
   ]
  },
  {
   "cell_type": "code",
   "execution_count": 7,
   "metadata": {},
   "outputs": [
    {
     "data": {
      "text/html": [
       "<div>\n",
       "<style scoped>\n",
       "    .dataframe tbody tr th:only-of-type {\n",
       "        vertical-align: middle;\n",
       "    }\n",
       "\n",
       "    .dataframe tbody tr th {\n",
       "        vertical-align: top;\n",
       "    }\n",
       "\n",
       "    .dataframe thead th {\n",
       "        text-align: right;\n",
       "    }\n",
       "</style>\n",
       "<table border=\"1\" class=\"dataframe\">\n",
       "  <thead>\n",
       "    <tr style=\"text-align: right;\">\n",
       "      <th></th>\n",
       "      <th>las_paths</th>\n",
       "    </tr>\n",
       "  </thead>\n",
       "  <tbody>\n",
       "    <tr>\n",
       "      <th>0</th>\n",
       "      <td>/home/bryce/Desktop/cercedilla_pyfor/000023.S....</td>\n",
       "    </tr>\n",
       "    <tr>\n",
       "      <th>1</th>\n",
       "      <td>/home/bryce/Desktop/cercedilla_pyfor/000033.S....</td>\n",
       "    </tr>\n",
       "    <tr>\n",
       "      <th>2</th>\n",
       "      <td>/home/bryce/Desktop/cercedilla_pyfor/000010.S....</td>\n",
       "    </tr>\n",
       "    <tr>\n",
       "      <th>3</th>\n",
       "      <td>/home/bryce/Desktop/cercedilla_pyfor/000004.S....</td>\n",
       "    </tr>\n",
       "    <tr>\n",
       "      <th>4</th>\n",
       "      <td>/home/bryce/Desktop/cercedilla_pyfor/000007.S....</td>\n",
       "    </tr>\n",
       "  </tbody>\n",
       "</table>\n",
       "</div>"
      ],
      "text/plain": [
       "                                           las_paths\n",
       "0  /home/bryce/Desktop/cercedilla_pyfor/000023.S....\n",
       "1  /home/bryce/Desktop/cercedilla_pyfor/000033.S....\n",
       "2  /home/bryce/Desktop/cercedilla_pyfor/000010.S....\n",
       "3  /home/bryce/Desktop/cercedilla_pyfor/000004.S....\n",
       "4  /home/bryce/Desktop/cercedilla_pyfor/000007.S...."
      ]
     },
     "execution_count": 7,
     "metadata": {},
     "output_type": "execute_result"
    }
   ],
   "source": [
    "col.head()"
   ]
  },
  {
   "cell_type": "markdown",
   "metadata": {},
   "source": [
    "On initialization (using `.from_dir`) pyfor generates the file path of each las file in the directory we provided."
   ]
  },
  {
   "cell_type": "markdown",
   "metadata": {},
   "source": [
    "Now we can use the `par_apply` method, this allows us to apply arbitrary functions to each las tile in the collection. Let's define a function we might want to apply to each tile. This function must accept a single argument upon each iteration, this argument is the path of the las file."
   ]
  },
  {
   "cell_type": "code",
   "execution_count": 24,
   "metadata": {},
   "outputs": [
    {
     "data": {
      "text/html": [
       "<div>\n",
       "<style scoped>\n",
       "    .dataframe tbody tr th:only-of-type {\n",
       "        vertical-align: middle;\n",
       "    }\n",
       "\n",
       "    .dataframe tbody tr th {\n",
       "        vertical-align: top;\n",
       "    }\n",
       "\n",
       "    .dataframe thead th {\n",
       "        text-align: right;\n",
       "    }\n",
       "</style>\n",
       "<table border=\"1\" class=\"dataframe\">\n",
       "  <thead>\n",
       "    <tr style=\"text-align: right;\">\n",
       "      <th></th>\n",
       "      <th>las_paths</th>\n",
       "      <th>min_z</th>\n",
       "    </tr>\n",
       "  </thead>\n",
       "  <tbody>\n",
       "    <tr>\n",
       "      <th>0</th>\n",
       "      <td>/home/bryce/Desktop/cercedilla_pyfor/000023.S....</td>\n",
       "      <td>748.18</td>\n",
       "    </tr>\n",
       "    <tr>\n",
       "      <th>1</th>\n",
       "      <td>/home/bryce/Desktop/cercedilla_pyfor/000033.S....</td>\n",
       "      <td>723.44</td>\n",
       "    </tr>\n",
       "    <tr>\n",
       "      <th>2</th>\n",
       "      <td>/home/bryce/Desktop/cercedilla_pyfor/000010.S....</td>\n",
       "      <td>787.78</td>\n",
       "    </tr>\n",
       "    <tr>\n",
       "      <th>3</th>\n",
       "      <td>/home/bryce/Desktop/cercedilla_pyfor/000004.S....</td>\n",
       "      <td>806.55</td>\n",
       "    </tr>\n",
       "    <tr>\n",
       "      <th>4</th>\n",
       "      <td>/home/bryce/Desktop/cercedilla_pyfor/000007.S....</td>\n",
       "      <td>883.75</td>\n",
       "    </tr>\n",
       "  </tbody>\n",
       "</table>\n",
       "</div>"
      ],
      "text/plain": [
       "                                           las_paths   min_z\n",
       "0  /home/bryce/Desktop/cercedilla_pyfor/000023.S....  748.18\n",
       "1  /home/bryce/Desktop/cercedilla_pyfor/000033.S....  723.44\n",
       "2  /home/bryce/Desktop/cercedilla_pyfor/000010.S....  787.78\n",
       "3  /home/bryce/Desktop/cercedilla_pyfor/000004.S....  806.55\n",
       "4  /home/bryce/Desktop/cercedilla_pyfor/000007.S....  883.75"
      ]
     },
     "execution_count": 24,
     "metadata": {},
     "output_type": "execute_result"
    }
   ],
   "source": [
    "def my_func(las_path):\n",
    "    # Load a cloud object\n",
    "    pc = pyfor.cloud.Cloud(las_path)\n",
    "    return (pc.las.min[2])\n",
    "\n",
    "# Set a new column for the CloudDataFrame\n",
    "col[\"min_z\"] = col.par_apply(my_func, \"las_paths\")\n",
    "col.head()"
   ]
  },
  {
   "cell_type": "markdown",
   "metadata": {},
   "source": [
    "Generally we will want our `my_func` to be a bit more complex, but this should give you a good framework to expand upon."
   ]
  }
 ],
 "metadata": {
  "kernelspec": {
   "display_name": "Python (pyfor_env)",
   "language": "python",
   "name": "pyfor_env"
  },
  "language_info": {
   "codemirror_mode": {
    "name": "ipython",
    "version": 3
   },
   "file_extension": ".py",
   "mimetype": "text/x-python",
   "name": "python",
   "nbconvert_exporter": "python",
   "pygments_lexer": "ipython3",
   "version": "3.6.5"
  }
 },
 "nbformat": 4,
 "nbformat_minor": 2
}
